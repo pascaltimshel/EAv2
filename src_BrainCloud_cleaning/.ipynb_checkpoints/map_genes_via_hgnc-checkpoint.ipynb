{
 "metadata": {
  "name": "",
  "signature": "sha256:0f4b19330210e629482eca8c6f9725d9c7666e835b10370051c464d7c06b385b"
 },
 "nbformat": 3,
 "nbformat_minor": 0,
 "worksheets": [
  {
   "cells": [
    {
     "cell_type": "code",
     "collapsed": false,
     "input": [
      "import os\n",
      "import sys\n",
      "import glob\n",
      "\n",
      "import collections\n",
      "\n",
      "import pandas as pd\n",
      "import numpy as np"
     ],
     "language": "python",
     "metadata": {},
     "outputs": [],
     "prompt_number": 6
    },
    {
     "cell_type": "markdown",
     "metadata": {},
     "source": [
      "### File Snippets"
     ]
    },
    {
     "cell_type": "raw",
     "metadata": {},
     "source": [
      "#### columns_metadata.csv\n",
      "column_num\tdonor_id\tdonor_name\tage\tgender\tstructure_id\tstructure_acronym\tstructure_name\n",
      "1\t13058\tH376.IIA.51\t8 pcw\tM\t10361\tAMY\tamygdaloid complex\n",
      "2\t13058\tH376.IIA.51\t8 pcw\tM\t10552\tCGE\tcaudal ganglionic eminence\n",
      "3\t13058\tH376.IIA.51\t8 pcw\tM\t10173\tDFC\tdorsolateral prefrontal cortex\n",
      "4\t13058\tH376.IIA.51\t8 pcw\tM\t10391\tDTH\tdorsal thalamus\n",
      "\n",
      "\n",
      "#### rows_metadata.csv\n",
      "row_num\tgene_id\tensembl_gene_id\tgene_symbol\tentrez_id\n",
      "1\t9633\tENSG00000101337\tTM9SF4\t9777\n",
      "2\t22692\tENSG00000114650\tSCAP\t22937\n",
      "3\t22952\tENSG00000113194\tFAF2\t23197\n",
      "4\t34497\tENSG00000150401\tDCUN1D2\t55208"
     ]
    },
    {
     "cell_type": "markdown",
     "metadata": {},
     "source": [
      "# References"
     ]
    },
    {
     "cell_type": "markdown",
     "metadata": {},
     "source": [
      "\n",
      "### BrainCloud GEO file\n",
      "http://www.ncbi.nlm.nih.gov/geo/query/acc.cgi?acc=GSE30272\n",
      "\n",
      "\n",
      "### About the format\n",
      "http://www.ncbi.nlm.nih.gov/geo/info/soft.html\n",
      "\n",
      "### Reading the NCBI's GEO microarray SOFT files in R/BioConductor\n",
      "http://www2.warwick.ac.uk/fac/sci/moac/people/students/peter_cock/r/geo/\n",
      "\n",
      "### Biopython\n",
      "http://biopython.org/DIST/docs/tutorial/Tutorial.html"
     ]
    },
    {
     "cell_type": "markdown",
     "metadata": {},
     "source": [
      "# Design"
     ]
    },
    {
     "cell_type": "markdown",
     "metadata": {},
     "source": [
      "1. Read expression matrix HEADER (donor_id) and FIRST COLUMN (probeID) only\n",
      "1. The outline is the following: probeID --> [via .annot] --> HGNC --> [via biomart] --> Ensembl\n",
      "    1. Map probeID using .annot file\n",
      "        - write out a row file\n",
      "\n",
      "3. Read series_matrix. Extract the following information INTO DICT/collections:\n",
      "    1. Read only lines that starts with \"!Sample_\"\n",
      "    2. donor_id --> !Sample_title: \"HB_18_34\"\n",
      "    3. structure_acronym --> !Sample_source_name_ch1\t\"Postmortem dorsolateral prefrontal cortex (DLPFC BA 46/9)\"\n",
      "    4. stage --> DUMMY. Convert later!\n",
      "    4. age --> !Sample_characteristics_ch1\t\"age: -0.498630137\"\n",
      "    5. gender --> !Sample_characteristics_ch1\t\"Sex: F\"\n",
      "    - write out column file\n",
      "\n",
      "\n",
      "*Q: how to treat donor_id with UNDERSCORE (_)? Needs conversion?\n",
      "\n",
      "### Main purpose of this notebook script\n",
      "The main purpose is to write out \n",
      "- columns_metadata.csv\n",
      "- rows_metadata.csv. \n",
      "- (The matrix file can be read be R - no need to modify it)\n",
      "\n",
      "\n",
      "### Inside R\n",
      "1. Read *_metadata.csv, matrix file\n",
      "2. Dicretize the age\n",
      "2. Perform median calculation\n",
      "\n",
      "(use tidyr separate() or extract()?)\n",
      "\n",
      "    \n",
      "3. Convert header of file into the following format per field:\n",
      "- paste(donor_id, structure_acronym, stage, age, gender, sep=\"_\")\n",
      "\n"
     ]
    },
    {
     "cell_type": "markdown",
     "metadata": {},
     "source": [
      "### NOTES\n",
      "\n",
      "By manual inspection I found that the \"GI = GenBank identifier\" would be the best option to map from.\n",
      "Also the \"Gene ID = Entrez Gene identifier\" look ok.\n",
      "\n",
      "- Mapping via \"probeID-->HGNC-->ENSG\" only gave 1819 probeIDs mapped to ENSG\n"
     ]
    },
    {
     "cell_type": "markdown",
     "metadata": {},
     "source": [
      "# Script"
     ]
    },
    {
     "cell_type": "markdown",
     "metadata": {},
     "source": [
      "### Files"
     ]
    },
    {
     "cell_type": "code",
     "collapsed": false,
     "input": [
      "file_annot = \"/Users/pascaltimshel/Dropbox/0_projects/p_EAv2/data_BrainCloud/mapping/GPL4611.annot\"\n",
      "\n",
      "file_biomart = \"/Users/pascaltimshel/Dropbox/0_Projects/p_snpsnap/data/misc/biomart_download-2015-02-26-snpsnap_production_v2-ensembl-release_GRCh37.p13_processed-GENCODE.chrosome_clean.unique-ENSG_ID.csv\"\n",
      "\n",
      "file_expr_matrix = \"/Users/pascaltimshel/Dropbox/0_Projects/p_EAv2/data_BrainCloud/GSE30272_ExprsMtxCleanedN269_31SVN.txt\"\n",
      "\n",
      "file_series_matrix = \"/Users/pascaltimshel/Dropbox/0_Projects/p_EAv2/data_BrainCloud/GSE30272_series_matrix.txt\""
     ],
     "language": "python",
     "metadata": {},
     "outputs": [],
     "prompt_number": 8
    },
    {
     "cell_type": "code",
     "collapsed": false,
     "input": [],
     "language": "python",
     "metadata": {},
     "outputs": [],
     "prompt_number": 7
    },
    {
     "cell_type": "markdown",
     "metadata": {},
     "source": [
      "# Write row file"
     ]
    },
    {
     "cell_type": "markdown",
     "metadata": {},
     "source": [
      "### Step1: dict_map_HGNC2ENSG [.biomart]"
     ]
    },
    {
     "cell_type": "code",
     "collapsed": false,
     "input": [
      "dict_map_HGNC2ENSG = {}\n",
      "non_unique_maps = {}\n",
      "\n",
      "with open(file_biomart, 'r') as f:\n",
      "    lines = f.readlines()\n",
      "    for line_no, line in enumerate(lines):\n",
      "        fields = line.split(\",\")\n",
      "        ENSG = fields[0]\n",
      "        HGNC_symbol = fields[6]\n",
      "        if HGNC_symbol: # check that the field is non-empty\n",
      "            if not HGNC_symbol in dict_map_HGNC2ENSG:\n",
      "                dict_map_HGNC2ENSG[HGNC_symbol] = ENSG\n",
      "            else:\n",
      "                if not dict_map_HGNC2ENSG[HGNC_symbol] == ENSG: # Pascal suffers from being paranoid - and he knows it!\n",
      "                    ### NOTE: WE ONLY KEEP THE FIRST OF THE MAPPINGS. The following mappings are NOT saved\n",
      "                    #print \"non-unique mapping detected\"\n",
      "                    non_unique_maps[HGNC_symbol] = ENSG\n",
      "                    \n",
      "print \"number of non-unique mappings: {}\".format(len(non_unique_maps))\n",
      "print \"mapped {} HGNC to ENSG\".format(len(dict_map_HGNC2ENSG))"
     ],
     "language": "python",
     "metadata": {},
     "outputs": [
      {
       "output_type": "stream",
       "stream": "stdout",
       "text": [
        "number of non-unique mappings: 20\n",
        "mapped 33526 HGNC to ENSG\n"
       ]
      }
     ],
     "prompt_number": 19
    },
    {
     "cell_type": "code",
     "collapsed": false,
     "input": [],
     "language": "python",
     "metadata": {},
     "outputs": [],
     "prompt_number": 19
    },
    {
     "cell_type": "code",
     "collapsed": false,
     "input": [],
     "language": "python",
     "metadata": {},
     "outputs": []
    },
    {
     "cell_type": "markdown",
     "metadata": {},
     "source": [
      "### Step2: dict_map_probeID2HGNC [.annot]"
     ]
    },
    {
     "cell_type": "code",
     "collapsed": false,
     "input": [
      "set_n_fields = set()\n",
      "dict_map_probeID2HGNC = {}\n",
      "\n",
      "with open(file_annot, 'r') as f:\n",
      "    lines = f.readlines()\n",
      "    for line_no, line in enumerate(lines):\n",
      "        fields = line.split(\"\\t\")\n",
      "        if line.startswith(\"HEEBO\"):\n",
      "            probeID = fields[0]\n",
      "            gene_symbol = fields[2]\n",
      "            if not probeID in dict_map_probeID2HGNC: # we have a newcomer! welcome to the dict!\n",
      "                dict_map_probeID2HGNC[probeID] = gene_symbol\n",
      "            else:\n",
      "                if not (dict_map_probeID2HGNC[probeID] == gene_symbol): # lets make sure that the mapping are consistent. Warn...\n",
      "                    print \"The annot file does not agress about the mapping\"\n",
      "        #if \"!platform_table_begin\" in line:\n",
      "        #    continue # skipping \n",
      "        set_n_fields.add(len(fields))"
     ],
     "language": "python",
     "metadata": {},
     "outputs": [],
     "prompt_number": 13
    },
    {
     "cell_type": "code",
     "collapsed": false,
     "input": [],
     "language": "python",
     "metadata": {},
     "outputs": [],
     "prompt_number": 19
    },
    {
     "cell_type": "markdown",
     "metadata": {},
     "source": [
      "### Step3: combine mapping: dict_map_probeID2ENSG"
     ]
    },
    {
     "cell_type": "code",
     "collapsed": false,
     "input": [
      "dict_map_probeID2ENSG = {}\n",
      "set_probe_mapped = set()\n",
      "set_probe_unmapped = set()\n",
      "\n",
      "for probeID in dict_map_probeID2HGNC:\n",
      "    HGNC_symbol = dict_map_probeID2HGNC[probeID]\n",
      "    if HGNC_symbol in dict_map_HGNC2ENSG:\n",
      "        ENSG = dict_map_HGNC2ENSG[HGNC_symbol]\n",
      "        dict_map_probeID2ENSG[probeID] = ENSG\n",
      "        set_probe_mapped.add(probeID)\n",
      "    else:\n",
      "        set_probe_unmapped.add(probeID)\n",
      "        \n",
      "print \"Mapped probes: {}\".format(len(set_probe_mapped))\n",
      "print \"Mapped unprobes: {}\".format(len(set_probe_unmapped))"
     ],
     "language": "python",
     "metadata": {},
     "outputs": [
      {
       "output_type": "stream",
       "stream": "stdout",
       "text": [
        "Mapped probes: 1819\n",
        "Mapped unprobes: 47333\n"
       ]
      }
     ],
     "prompt_number": 22
    },
    {
     "cell_type": "code",
     "collapsed": false,
     "input": [],
     "language": "python",
     "metadata": {},
     "outputs": []
    },
    {
     "cell_type": "code",
     "collapsed": false,
     "input": [],
     "language": "python",
     "metadata": {},
     "outputs": []
    },
    {
     "cell_type": "code",
     "collapsed": false,
     "input": [],
     "language": "python",
     "metadata": {},
     "outputs": []
    },
    {
     "cell_type": "markdown",
     "metadata": {},
     "source": [
      "### Step3: map IDs in matrix file"
     ]
    },
    {
     "cell_type": "code",
     "collapsed": false,
     "input": [
      "with open(file_expr_matrix, 'r') as f:\n",
      "    lines = f.readlines()[1:] # skipping header!\n",
      "    for line_no, line in enumerate(lines):\n",
      "        fields = line.strip().replace('\"', '').split(\"\\t\")\n",
      "        print fields[0]\n",
      "        if line_no == 10: break"
     ],
     "language": "python",
     "metadata": {},
     "outputs": [
      {
       "output_type": "stream",
       "stream": "stdout",
       "text": [
        "ID\n",
        "HEEBO-002-CTRL2I24\n",
        "HEEBO-002-CTRL2M24\n",
        "HEEBO-002-CTRL2M12\n",
        "HEEBO-003-CTRL3M24\n",
        "HEEBO-004-CTRL4A24\n",
        "HEEBO-004-CTRL4E12\n",
        "HEEBO-004-CTRL4M24\n",
        "HEEBO-004-CTRL4M12\n",
        "HEEBO-005-HCC5E24\n",
        "HEEBO-005-HCC5I24\n"
       ]
      }
     ],
     "prompt_number": 10
    },
    {
     "cell_type": "code",
     "collapsed": false,
     "input": [],
     "language": "python",
     "metadata": {},
     "outputs": []
    },
    {
     "cell_type": "code",
     "collapsed": false,
     "input": [],
     "language": "python",
     "metadata": {},
     "outputs": [],
     "prompt_number": 7
    },
    {
     "cell_type": "code",
     "collapsed": false,
     "input": [],
     "language": "python",
     "metadata": {},
     "outputs": [],
     "prompt_number": 7
    },
    {
     "cell_type": "code",
     "collapsed": false,
     "input": [],
     "language": "python",
     "metadata": {},
     "outputs": []
    },
    {
     "cell_type": "markdown",
     "metadata": {},
     "source": [
      "### Construct Mapping Dicts"
     ]
    },
    {
     "cell_type": "code",
     "collapsed": false,
     "input": [],
     "language": "python",
     "metadata": {},
     "outputs": [],
     "prompt_number": 1
    },
    {
     "cell_type": "code",
     "collapsed": false,
     "input": [],
     "language": "python",
     "metadata": {},
     "outputs": [],
     "prompt_number": 1
    },
    {
     "cell_type": "code",
     "collapsed": false,
     "input": [],
     "language": "python",
     "metadata": {},
     "outputs": []
    }
   ],
   "metadata": {}
  }
 ]
}